{
 "cells": [
  {
   "cell_type": "markdown",
   "id": "e08fb7d1",
   "metadata": {},
   "source": [
    "with thanks to :\n",
    "https://medium.com/a-r-g-o/using-plotlys-dash-to-deliver-public-sector-decision-support-dashboards-ac863fa829fb"
   ]
  },
  {
   "cell_type": "code",
   "execution_count": 38,
   "id": "ddeb8c4b",
   "metadata": {},
   "outputs": [],
   "source": [
    "import dash\n",
    "#from dash.dependencies import Input, Output, State, Event\n",
    "import dash_core_components as dcc\n",
    "import dash_bootstrap_components as dbc ## added\n",
    "import dash_html_components as html\n",
    "#import dash_table_experiments as dt\n",
    "import plotly\n",
    "import flask\n",
    "import pandas as pd\n",
    "import numpy as np"
   ]
  },
  {
   "cell_type": "code",
   "execution_count": 39,
   "id": "0a8a6dcf",
   "metadata": {},
   "outputs": [],
   "source": [
    "from dash.dependencies import Input, Output"
   ]
  },
  {
   "cell_type": "code",
   "execution_count": 40,
   "id": "1049d3c7",
   "metadata": {},
   "outputs": [],
   "source": [
    "#external_stylesheets = ['https://codepen.io/chriddyp/pen/bWLwgP.css']\n",
    "external_stylesheets=[dbc.themes.BOOTSTRAP]"
   ]
  },
  {
   "cell_type": "code",
   "execution_count": 41,
   "id": "e3492d95",
   "metadata": {},
   "outputs": [],
   "source": [
    "from jupyter_dash import JupyterDash"
   ]
  },
  {
   "cell_type": "code",
   "execution_count": 42,
   "id": "e4e4f153",
   "metadata": {},
   "outputs": [],
   "source": [
    "app = JupyterDash(__name__, external_stylesheets=external_stylesheets)"
   ]
  },
  {
   "cell_type": "markdown",
   "id": "521cd5fb",
   "metadata": {},
   "source": [
    "https://dash-bootstrap-components.opensource.faculty.ai/docs/components/layout/"
   ]
  },
  {
   "cell_type": "markdown",
   "id": "975bea38",
   "metadata": {},
   "source": [
    "app.layout = html.Div([\n",
    "    html.H3(\"Largest evaluation of all time\")\n",
    "])"
   ]
  },
  {
   "cell_type": "code",
   "execution_count": 43,
   "id": "3b1b9061",
   "metadata": {},
   "outputs": [],
   "source": [
    "row1 = html.Div(\n",
    "    [\n",
    "        dbc.Row(dbc.Col(html.Div(\"A single column\"))),\n",
    "        dbc.Row(\n",
    "            [\n",
    "                dbc.Col(html.Div(\"One of three columns\")),\n",
    "                dbc.Col(html.Div(\"One of three columns\")),\n",
    "                dbc.Col(html.Div(\"One of three columns\")),\n",
    "            ]\n",
    "        ),\n",
    "    ]\n",
    ")"
   ]
  },
  {
   "cell_type": "code",
   "execution_count": 44,
   "id": "6639dc3e",
   "metadata": {},
   "outputs": [],
   "source": [
    "row2 = html.Div(\n",
    "    [\n",
    "        dbc.Row(\n",
    "            dbc.Col(\n",
    "                html.Div(\"A single, half-width column\"),\n",
    "                width={\"size\": 6, \"offset\": 3},\n",
    "            )\n",
    "        ),\n",
    "        dbc.Row(\n",
    "            [\n",
    "                dbc.Col(\n",
    "                    html.Div(\"The last of three columns\"),\n",
    "                    width={\"size\": 3, \"order\": \"last\", \"offset\": 1},\n",
    "                ),\n",
    "                dbc.Col(\n",
    "                    html.Div(\"The first of three columns\"),\n",
    "                    width={\"size\": 3, \"order\": 1, \"offset\": 2},\n",
    "                ),\n",
    "                dbc.Col(\n",
    "                    html.Div(\"The second of three columns\"),\n",
    "                    width={\"size\": 3, \"order\": 12},\n",
    "                ),\n",
    "            ]\n",
    "        ),\n",
    "    ]\n",
    ")"
   ]
  },
  {
   "cell_type": "code",
   "execution_count": 46,
   "id": "5aeec62b",
   "metadata": {},
   "outputs": [],
   "source": [
    "app.layout = html.Div([row1,row2])"
   ]
  },
  {
   "cell_type": "code",
   "execution_count": 47,
   "id": "993c97aa",
   "metadata": {},
   "outputs": [
    {
     "name": "stdout",
     "output_type": "stream",
     "text": [
      "Dash app running on http://127.0.0.1:5051/\n"
     ]
    }
   ],
   "source": [
    "app.run_server(debug=True,port=5051)"
   ]
  },
  {
   "cell_type": "code",
   "execution_count": null,
   "id": "12a72e38",
   "metadata": {},
   "outputs": [],
   "source": []
  }
 ],
 "metadata": {
  "kernelspec": {
   "display_name": "Python 3",
   "language": "python",
   "name": "python3"
  },
  "language_info": {
   "codemirror_mode": {
    "name": "ipython",
    "version": 3
   },
   "file_extension": ".py",
   "mimetype": "text/x-python",
   "name": "python",
   "nbconvert_exporter": "python",
   "pygments_lexer": "ipython3",
   "version": "3.8.10"
  }
 },
 "nbformat": 4,
 "nbformat_minor": 5
}
