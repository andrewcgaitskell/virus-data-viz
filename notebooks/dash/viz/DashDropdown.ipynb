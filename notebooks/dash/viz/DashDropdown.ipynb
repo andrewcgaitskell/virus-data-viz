{
 "cells": [
  {
   "cell_type": "code",
   "execution_count": 1,
   "id": "41f33e5a",
   "metadata": {},
   "outputs": [],
   "source": [
    "import dash\n",
    "import dash_core_components as dcc\n",
    "import dash_html_components as html\n",
    "from dash.dependencies import Input, Output\n",
    "import plotly.express as px\n",
    "from jupyter_dash import JupyterDash\n",
    "\n",
    "external_stylesheets = ['https://codepen.io/chriddyp/pen/bWLwgP.css']\n"
   ]
  },
  {
   "cell_type": "markdown",
   "id": "27e0741d",
   "metadata": {},
   "source": [
    "import os\n",
    "import signal\n",
    "os.kill(os.getpid(), signal.SIGTERM)\n"
   ]
  },
  {
   "cell_type": "code",
   "execution_count": 2,
   "id": "1a1a57b8",
   "metadata": {},
   "outputs": [],
   "source": [
    "app = JupyterDash(__name__, external_stylesheets=external_stylesheets)\n",
    "\n",
    "df = px.data.stocks()\n"
   ]
  },
  {
   "cell_type": "code",
   "execution_count": 3,
   "id": "8fb4317d",
   "metadata": {},
   "outputs": [],
   "source": [
    "app.layout = html.Div([\n",
    "    dcc.Dropdown(\n",
    "        id=\"ticker\",\n",
    "        options=[{\"label\": x, \"value\": x} \n",
    "                 for x in df.columns[1:]],\n",
    "        value=df.columns[1],\n",
    "        clearable=False,\n",
    "    ),\n",
    "    dcc.Graph(id=\"time-series-chart\"),\n",
    "])"
   ]
  },
  {
   "cell_type": "code",
   "execution_count": 4,
   "id": "80b92cfe",
   "metadata": {},
   "outputs": [],
   "source": [
    "@app.callback(\n",
    "    Output(\"time-series-chart\", \"figure\"), \n",
    "    [Input(\"ticker\", \"value\")])\n",
    "def display_time_series(ticker):\n",
    "    fig = px.line(df, x='date', y=ticker)\n",
    "    return fig\n"
   ]
  },
  {
   "cell_type": "code",
   "execution_count": 5,
   "id": "066b98c6",
   "metadata": {},
   "outputs": [
    {
     "name": "stdout",
     "output_type": "stream",
     "text": [
      "Dash app running on http://127.0.0.1:8050/\n"
     ]
    }
   ],
   "source": [
    "app.run_server(debug=True)"
   ]
  }
 ],
 "metadata": {
  "kernelspec": {
   "display_name": "Python 3",
   "language": "python",
   "name": "python3"
  },
  "language_info": {
   "codemirror_mode": {
    "name": "ipython",
    "version": 3
   },
   "file_extension": ".py",
   "mimetype": "text/x-python",
   "name": "python",
   "nbconvert_exporter": "python",
   "pygments_lexer": "ipython3",
   "version": "3.8.10"
  }
 },
 "nbformat": 4,
 "nbformat_minor": 5
}
